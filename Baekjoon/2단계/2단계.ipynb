{
 "cells": [
  {
   "cell_type": "code",
   "execution_count": 3,
   "metadata": {},
   "outputs": [
    {
     "name": "stdout",
     "output_type": "stream",
     "text": [
      ">\n"
     ]
    }
   ],
   "source": [
    "# 2-1\n",
    "\n",
    "a, b = map(int, input().split())\n",
    "if a > b :\n",
    "    print('>')\n",
    "elif a < b :\n",
    "    print('<')\n",
    "else :\n",
    "    print('==')"
   ]
  },
  {
   "cell_type": "code",
   "execution_count": 7,
   "metadata": {},
   "outputs": [
    {
     "name": "stdout",
     "output_type": "stream",
     "text": [
      "F\n"
     ]
    }
   ],
   "source": [
    "# 2-2\n",
    "\n",
    "a = int(input())\n",
    "\n",
    "if 100 >= a >= 90 :\n",
    "    print('A')\n",
    "elif 90 > a >= 80 :\n",
    "    print('B')\n",
    "elif 80 > a >= 70 :\n",
    "    print('C')\n",
    "elif 70 > a >= 60 :\n",
    "    print('D')\n",
    "else :\n",
    "    print('F')"
   ]
  },
  {
   "cell_type": "code",
   "execution_count": 11,
   "metadata": {},
   "outputs": [
    {
     "name": "stdout",
     "output_type": "stream",
     "text": [
      "1\n"
     ]
    }
   ],
   "source": [
    "# 2-3\n",
    "\n",
    "a = int(input())\n",
    "\n",
    "if a % 4 == 0 and a % 100 != 0 :\n",
    "    print('1')\n",
    "elif a % 400 == 0 :\n",
    "    print('1')\n",
    "else :\n",
    "    print('0')"
   ]
  },
  {
   "cell_type": "code",
   "execution_count": 16,
   "metadata": {},
   "outputs": [
    {
     "name": "stdout",
     "output_type": "stream",
     "text": [
      "1\n"
     ]
    }
   ],
   "source": [
    "# 2-4\n",
    "\n",
    "a = int(input())\n",
    "b = int(input())\n",
    "\n",
    "if a > 0 and b > 0 :\n",
    "    print('1')\n",
    "elif a < 0 and b > 0 :\n",
    "    print('2')\n",
    "elif a < 0 and b < 0 :\n",
    "    print('3')\n",
    "else :\n",
    "    print('4')"
   ]
  },
  {
   "cell_type": "code",
   "execution_count": 26,
   "metadata": {},
   "outputs": [
    {
     "name": "stdout",
     "output_type": "stream",
     "text": [
      "22 55\n"
     ]
    }
   ],
   "source": [
    "# 2-5\n",
    "\n",
    "H, M = map(int, input().split())\n",
    "m1 = M - 45\n",
    "\n",
    "if m1 >= 0 :\n",
    "    h = H\n",
    "    m = m1\n",
    "elif m1 < 0 :\n",
    "    if H == 0 :\n",
    "        H = 24\n",
    "    h = H - 1\n",
    "    m = 60 + m1\n",
    "\n",
    "print(h, m)\n",
    "\n"
   ]
  },
  {
   "cell_type": "code",
   "execution_count": 42,
   "metadata": {},
   "outputs": [
    {
     "name": "stdout",
     "output_type": "stream",
     "text": [
      "0 13\n"
     ]
    }
   ],
   "source": [
    "# 2-6\n",
    "A, B = map(int, input().split())\n",
    "C = int(input())\n",
    "A += C // 60\n",
    "B += C % 60\n",
    "\n",
    "if B >= 60 :\n",
    "    A += 1\n",
    "    B -= 60\n",
    "if A >= 24 :\n",
    "    A -= 24\n",
    "print(A, B)"
   ]
  },
  {
   "cell_type": "code",
   "execution_count": 47,
   "metadata": {},
   "outputs": [
    {
     "name": "stdout",
     "output_type": "stream",
     "text": [
      "11000\n"
     ]
    }
   ],
   "source": [
    "# 2-7\n",
    "a, b, c = map(int, input().split())\n",
    "\n",
    "if a == b == c :\n",
    "    print(10000 + a * 1000)\n",
    "elif a == b or a == c or b == c :\n",
    "    if a == b or a == c :\n",
    "        print(1000 + a * 100)\n",
    "    if b == c :\n",
    "        print(1000 + b * 100)\n",
    "else :\n",
    "    print(max(a, b, c) * 100)\n",
    "    \n"
   ]
  }
 ],
 "metadata": {
  "kernelspec": {
   "display_name": "Python 3",
   "language": "python",
   "name": "python3"
  },
  "language_info": {
   "codemirror_mode": {
    "name": "ipython",
    "version": 3
   },
   "file_extension": ".py",
   "mimetype": "text/x-python",
   "name": "python",
   "nbconvert_exporter": "python",
   "pygments_lexer": "ipython3",
   "version": "3.11.1"
  },
  "orig_nbformat": 4,
  "vscode": {
   "interpreter": {
    "hash": "5868237a719c5308d34c8911a17794e6baa898a055f8bd5fbd9df195d03bb563"
   }
  }
 },
 "nbformat": 4,
 "nbformat_minor": 2
}
