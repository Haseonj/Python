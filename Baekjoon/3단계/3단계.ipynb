{
 "cells": [
  {
   "cell_type": "code",
   "execution_count": null,
   "metadata": {},
   "outputs": [],
   "source": [
    "# 3-2\n",
    "T = int(input())\n",
    "for T in range(1, T+1) :\n",
    "    A, B = map(int, input().split())\n",
    "    print(A + B)"
   ]
  },
  {
   "cell_type": "code",
   "execution_count": null,
   "metadata": {},
   "outputs": [],
   "source": [
    "# 3-3\n",
    "n = int(input())\n",
    "total = 0\n",
    "for n in range(1, n+1) :\n",
    "    total += n\n",
    "print(total)"
   ]
  },
  {
   "cell_type": "code",
   "execution_count": null,
   "metadata": {},
   "outputs": [],
   "source": [
    "# 3-4\n",
    "X = int(input())\n",
    "N = int(input())\n",
    "total = 0\n",
    "for N in range(1, N+1) :\n",
    "    a, b = map(int, input().split())\n",
    "    total += a * b\n",
    "\n",
    "if total == X :\n",
    "    print('Yes')\n",
    "else :\n",
    "    print('No')\n"
   ]
  },
  {
   "cell_type": "code",
   "execution_count": null,
   "metadata": {},
   "outputs": [],
   "source": [
    "# 3-5\n",
    "import sys\n",
    "T = int(input())\n",
    "\n",
    "for i in range(T) :\n",
    "    A, B = map(int, sys.stdin.readline().split())\n",
    "    print(A + B)"
   ]
  },
  {
   "cell_type": "code",
   "execution_count": null,
   "metadata": {},
   "outputs": [],
   "source": [
    "# 3-6\n",
    "T = int(input())\n",
    "\n",
    "for i in range(1, T+1) :\n",
    "    A, B = map(int, input().split())\n",
    "    print('Case #'+str(i)+':', A+B)\n"
   ]
  },
  {
   "cell_type": "code",
   "execution_count": null,
   "metadata": {},
   "outputs": [],
   "source": [
    "# 3-7\n",
    "T = int(input())\n",
    "\n",
    "for i in range(1, T+1) :\n",
    "    A, B = map(int, input().split())\n",
    "    print('Case #{}: {} + {} = {}'.format(i, A, B, A+B))"
   ]
  },
  {
   "cell_type": "code",
   "execution_count": null,
   "metadata": {},
   "outputs": [],
   "source": [
    "# 3-8\n",
    "T = int(input())\n",
    "\n",
    "for i in range(1, T+1) :\n",
    "    for j in range(i) :\n",
    "        print('*', end='')\n",
    "    print()    "
   ]
  },
  {
   "cell_type": "code",
   "execution_count": 32,
   "metadata": {},
   "outputs": [
    {
     "name": "stdout",
     "output_type": "stream",
     "text": [
      "    *\n",
      "   **\n",
      "  ***\n",
      " ****\n",
      "*****\n"
     ]
    }
   ],
   "source": [
    "# 3-9\n",
    "T = int(input())\n",
    "for i in range(1, T+1):\n",
    "    print(' ' * (T-i) + '*' * i)"
   ]
  },
  {
   "cell_type": "code",
   "execution_count": 37,
   "metadata": {},
   "outputs": [
    {
     "name": "stdout",
     "output_type": "stream",
     "text": [
      "2\n",
      "4\n",
      "6\n",
      "8\n"
     ]
    }
   ],
   "source": [
    "# 3-10\n",
    "while True :\n",
    "    A, B = map(int, input().split())\n",
    "    if A == B == 0 :\n",
    "        break\n",
    "    print(A+B)"
   ]
  },
  {
   "cell_type": "code",
   "execution_count": 39,
   "metadata": {},
   "outputs": [
    {
     "name": "stdout",
     "output_type": "stream",
     "text": [
      "2\n",
      "4\n"
     ]
    }
   ],
   "source": [
    "# 3-11\n",
    "while True:\n",
    "    try:\n",
    "        A, B = map(int, input().split())\n",
    "        print(A+B)\n",
    "    except:\n",
    "        break"
   ]
  },
  {
   "cell_type": "code",
   "execution_count": 13,
   "metadata": {},
   "outputs": [
    {
     "name": "stdout",
     "output_type": "stream",
     "text": [
      "12\n"
     ]
    }
   ],
   "source": [
    "# 3-12\n",
    "N = int(input())\n",
    "\n",
    "if N < 10:\n",
    "    N = N * 10\n",
    "    \n",
    "start = N\n",
    "count = 0\n",
    "\n",
    "while True:\n",
    "    a = N // 10\n",
    "    b = N % 10\n",
    "    c = (a + b) % 10\n",
    "    N = (b * 10) + c\n",
    "    count += 1\n",
    "    if N == start:\n",
    "        break\n",
    "    \n",
    "print(count)"
   ]
  }
 ],
 "metadata": {
  "kernelspec": {
   "display_name": "Python 3",
   "language": "python",
   "name": "python3"
  },
  "language_info": {
   "codemirror_mode": {
    "name": "ipython",
    "version": 3
   },
   "file_extension": ".py",
   "mimetype": "text/x-python",
   "name": "python",
   "nbconvert_exporter": "python",
   "pygments_lexer": "ipython3",
   "version": "3.11.1"
  },
  "orig_nbformat": 4,
  "vscode": {
   "interpreter": {
    "hash": "5868237a719c5308d34c8911a17794e6baa898a055f8bd5fbd9df195d03bb563"
   }
  }
 },
 "nbformat": 4,
 "nbformat_minor": 2
}
