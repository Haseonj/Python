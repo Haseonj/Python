{
 "cells": [
  {
   "cell_type": "code",
   "execution_count": 3,
   "metadata": {},
   "outputs": [
    {
     "name": "stdout",
     "output_type": "stream",
     "text": [
      "0\n"
     ]
    }
   ],
   "source": [
    "# 4-1\n",
    "N = int(input())\n",
    "v = list(map(int, input().split()))\n",
    "a = int(input())\n",
    "print(v.count(a))"
   ]
  },
  {
   "cell_type": "code",
   "execution_count": 5,
   "metadata": {},
   "outputs": [
    {
     "name": "stdout",
     "output_type": "stream",
     "text": [
      "1 4 2 3 "
     ]
    }
   ],
   "source": [
    "# 4-2\n",
    "N, X = map(int, input().split())\n",
    "A = list(map(int, input().split()))\n",
    "\n",
    "for i in range(N):\n",
    "    if X > A[i]:\n",
    "        print(A[i], end=\" \")"
   ]
  },
  {
   "cell_type": "code",
   "execution_count": 7,
   "metadata": {},
   "outputs": [
    {
     "name": "stdout",
     "output_type": "stream",
     "text": [
      "7 35\n"
     ]
    }
   ],
   "source": [
    "# 4-3\n",
    "N = map(int, input().split())\n",
    "a = list(map(int, input().split()))\n",
    "\n",
    "print(min(a), max(a))"
   ]
  },
  {
   "cell_type": "code",
   "execution_count": 35,
   "metadata": {},
   "outputs": [
    {
     "name": "stdout",
     "output_type": "stream",
     "text": [
      "[3, 29, 38, 12, 57, 74, 40, 85, 61]\n",
      "85\n",
      "8\n"
     ]
    }
   ],
   "source": [
    "# 4-4\n",
    "a = []\n",
    "for i in range(9):\n",
    "    N = int(input())\n",
    "    a.append(N)\n",
    "\n",
    "print(max(a))\n",
    "print(a.index(max(a)) + 1)"
   ]
  },
  {
   "cell_type": "code",
   "execution_count": 36,
   "metadata": {},
   "outputs": [
    {
     "name": "stdout",
     "output_type": "stream",
     "text": [
      "[2, 8]\n"
     ]
    }
   ],
   "source": [
    "# 4-5\n",
    "a = [1, 2, 3, 4, 5, 6, 7, 8, 9, 10,\n",
    "     11, 12, 13, 14, 15, 16, 17, 18, 19, 20,\n",
    "     21, 22, 23, 24, 25, 26, 27, 28, 29, 30]\n",
    "\n",
    "for i in range(28):\n",
    "    n = int(input())\n",
    "    a.remove(n)\n",
    "\n",
    "print(min(a))\n",
    "print(max(a))"
   ]
  },
  {
   "cell_type": "code",
   "execution_count": 49,
   "metadata": {},
   "outputs": [
    {
     "name": "stdout",
     "output_type": "stream",
     "text": [
      "6\n"
     ]
    }
   ],
   "source": [
    "# 4-6\n",
    "a = []\n",
    "for i in range(10):\n",
    "    n = int(input())\n",
    "    a.append(n % 42)\n",
    "b = set(a)\n",
    "print(len(b))"
   ]
  },
  {
   "cell_type": "code",
   "execution_count": 60,
   "metadata": {},
   "outputs": [
    {
     "name": "stdout",
     "output_type": "stream",
     "text": [
      "[1.0, 100.0, 100.0, 100.0]\n",
      "75.25\n"
     ]
    }
   ],
   "source": [
    "# 4-7\n",
    "N = int(input())\n",
    "a = list(map(int, input().split()))\n",
    "M = max(a)\n",
    "for i in range(N):\n",
    "    c = a[i] / M * 100\n",
    "    a[i] = c\n",
    "\n",
    "print(sum(a)/N)"
   ]
  },
  {
   "cell_type": "code",
   "execution_count": 13,
   "metadata": {},
   "outputs": [
    {
     "name": "stdout",
     "output_type": "stream",
     "text": [
      "10\n",
      "9\n"
     ]
    }
   ],
   "source": [
    "# 4-8\n",
    "N = int(input())\n",
    "\n",
    "for i in range(N):\n",
    "    total = 0\n",
    "    count = 0\n",
    "    Q = input()\n",
    "    q = list(Q)\n",
    "    \n",
    "    for j in range(1, len(q)+1):    \n",
    "        if q[j-1] == 'O':\n",
    "            count += 1\n",
    "            total += count\n",
    "        else :\n",
    "            count = 0\n",
    "    print(total)\n",
    "\n",
    "        "
   ]
  },
  {
   "cell_type": "code",
   "execution_count": null,
   "metadata": {},
   "outputs": [],
   "source": [
    "# 4-9\n",
    "C = int(input())\n",
    "\n"
   ]
  }
 ],
 "metadata": {
  "kernelspec": {
   "display_name": "Python 3",
   "language": "python",
   "name": "python3"
  },
  "language_info": {
   "codemirror_mode": {
    "name": "ipython",
    "version": 3
   },
   "file_extension": ".py",
   "mimetype": "text/x-python",
   "name": "python",
   "nbconvert_exporter": "python",
   "pygments_lexer": "ipython3",
   "version": "3.11.1"
  },
  "orig_nbformat": 4,
  "vscode": {
   "interpreter": {
    "hash": "5868237a719c5308d34c8911a17794e6baa898a055f8bd5fbd9df195d03bb563"
   }
  }
 },
 "nbformat": 4,
 "nbformat_minor": 2
}
